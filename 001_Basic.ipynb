{
 "cells": [
  {
   "cell_type": "markdown",
   "metadata": {},
   "source": [
    "# Python \n"
   ]
  },
  {
   "cell_type": "markdown",
   "metadata": {},
   "source": [
    "Preparación. Creamos un  script de python. "
   ]
  },
  {
   "cell_type": "code",
   "execution_count": 539,
   "metadata": {},
   "outputs": [],
   "source": [
    "! echo 'print(\"Hola mundo\")' > hello_world.py "
   ]
  },
  {
   "cell_type": "markdown",
   "metadata": {},
   "source": [
    "## Características de python:\n",
    "* Está casi en cualuiqer sitio disponible. \n",
    "* Está tabulado. Recomienda usar espacios en lugar de tabuladores. Ver serie Sillicon Valley donde hay una discusión entre si usar tabuladores y espacios y provoca hasdta rupturas :p\n",
    "* Es bastante amigable.\n",
    "* Los comentarios son con #"
   ]
  },
  {
   "cell_type": "code",
   "execution_count": 540,
   "metadata": {},
   "outputs": [],
   "source": [
    "# esto es un comentario de python"
   ]
  },
  {
   "cell_type": "markdown",
   "metadata": {},
   "source": [
    "* Para ejecutar un comando de python desde shell:"
   ]
  },
  {
   "cell_type": "code",
   "execution_count": 541,
   "metadata": {
    "scrolled": true
   },
   "outputs": [
    {
     "name": "stdout",
     "output_type": "stream",
     "text": [
      "Hola mundo\r\n"
     ]
    }
   ],
   "source": [
    "! python hello_world.py"
   ]
  },
  {
   "cell_type": "markdown",
   "metadata": {},
   "source": [
    "## IPython\n",
    "* Es un intérprete mejorado de python.\n",
    "* Se ejecuta poniendo ipython. \n",
    "* Para ejecutar un archivo de python desde IPython (o desde el notebook) usamos la _magia_ \n",
    "\n",
    "```shell\n",
    "%run nombre_de_script.py\n",
    "```"
   ]
  },
  {
   "cell_type": "code",
   "execution_count": 542,
   "metadata": {},
   "outputs": [
    {
     "name": "stdout",
     "output_type": "stream",
     "text": [
      "Hola mundo\n"
     ]
    }
   ],
   "source": [
    "% run hello_world.py\n",
    "! rm -f hello_world.py"
   ]
  },
  {
   "cell_type": "raw",
   "metadata": {},
   "source": [
    "* Para salir del intérprete:\n",
    "\n",
    "```shell\n",
    "exit\n",
    "```\n",
    "\n",
    "* Para crear una variable:"
   ]
  },
  {
   "cell_type": "code",
   "execution_count": 543,
   "metadata": {},
   "outputs": [],
   "source": [
    "a = 3"
   ]
  },
  {
   "cell_type": "markdown",
   "metadata": {},
   "source": [
    "* Para ver su tipo:"
   ]
  },
  {
   "cell_type": "code",
   "execution_count": 544,
   "metadata": {},
   "outputs": [
    {
     "data": {
      "text/plain": [
       "int"
      ]
     },
     "execution_count": 544,
     "metadata": {},
     "output_type": "execute_result"
    }
   ],
   "source": [
    "type(a)"
   ]
  },
  {
   "cell_type": "code",
   "execution_count": 545,
   "metadata": {},
   "outputs": [
    {
     "data": {
      "text/plain": [
       "str"
      ]
     },
     "execution_count": 545,
     "metadata": {},
     "output_type": "execute_result"
    }
   ],
   "source": [
    "t = \"hola\"\n",
    "type(t)"
   ]
  },
  {
   "cell_type": "markdown",
   "metadata": {},
   "source": [
    "* Para saber si es de un tipo concreto:"
   ]
  },
  {
   "cell_type": "code",
   "execution_count": 546,
   "metadata": {},
   "outputs": [
    {
     "data": {
      "text/plain": [
       "True"
      ]
     },
     "execution_count": 546,
     "metadata": {},
     "output_type": "execute_result"
    }
   ],
   "source": [
    "isinstance(a,int)"
   ]
  },
  {
   "cell_type": "code",
   "execution_count": 547,
   "metadata": {},
   "outputs": [
    {
     "data": {
      "text/plain": [
       "False"
      ]
     },
     "execution_count": 547,
     "metadata": {},
     "output_type": "execute_result"
    }
   ],
   "source": [
    "isinstance(a,bool)"
   ]
  },
  {
   "cell_type": "markdown",
   "metadata": {},
   "source": [
    "* Para ver si es un entero ó un booleano:"
   ]
  },
  {
   "cell_type": "code",
   "execution_count": 548,
   "metadata": {},
   "outputs": [
    {
     "data": {
      "text/plain": [
       "True"
      ]
     },
     "execution_count": 548,
     "metadata": {},
     "output_type": "execute_result"
    }
   ],
   "source": [
    "isinstance(a,(bool,int))"
   ]
  },
  {
   "cell_type": "markdown",
   "metadata": {},
   "source": [
    "* Operador módulo (este no existe en otros lenguajes)"
   ]
  },
  {
   "cell_type": "code",
   "execution_count": 549,
   "metadata": {},
   "outputs": [
    {
     "data": {
      "text/plain": [
       "2"
      ]
     },
     "execution_count": 549,
     "metadata": {},
     "output_type": "execute_result"
    }
   ],
   "source": [
    "5 // 2"
   ]
  },
  {
   "cell_type": "code",
   "execution_count": 550,
   "metadata": {},
   "outputs": [
    {
     "data": {
      "text/plain": [
       "1"
      ]
     },
     "execution_count": 550,
     "metadata": {},
     "output_type": "execute_result"
    }
   ],
   "source": [
    "5 % 2"
   ]
  },
  {
   "cell_type": "markdown",
   "metadata": {},
   "source": [
    "* Prueba a poner 'a.' y pulsar en tabulador"
   ]
  },
  {
   "cell_type": "markdown",
   "metadata": {},
   "source": [
    "* Hagamos lo mismo con un string"
   ]
  },
  {
   "cell_type": "code",
   "execution_count": 551,
   "metadata": {},
   "outputs": [
    {
     "data": {
      "text/plain": [
       "'Hola hola'"
      ]
     },
     "execution_count": 551,
     "metadata": {},
     "output_type": "execute_result"
    }
   ],
   "source": [
    "text = \"hola hola\"\n",
    "\n",
    "text.capitalize()"
   ]
  },
  {
   "cell_type": "markdown",
   "metadata": {},
   "source": [
    "* Otra forma para ver todos los atributos de a es con _dir"
   ]
  },
  {
   "cell_type": "code",
   "execution_count": 552,
   "metadata": {},
   "outputs": [
    {
     "data": {
      "text/plain": [
       "['__abs__',\n",
       " '__add__',\n",
       " '__and__',\n",
       " '__bool__',\n",
       " '__ceil__',\n",
       " '__class__',\n",
       " '__delattr__',\n",
       " '__dir__',\n",
       " '__divmod__',\n",
       " '__doc__',\n",
       " '__eq__',\n",
       " '__float__',\n",
       " '__floor__',\n",
       " '__floordiv__',\n",
       " '__format__',\n",
       " '__ge__',\n",
       " '__getattribute__',\n",
       " '__getnewargs__',\n",
       " '__gt__',\n",
       " '__hash__',\n",
       " '__index__',\n",
       " '__init__',\n",
       " '__init_subclass__',\n",
       " '__int__',\n",
       " '__invert__',\n",
       " '__le__',\n",
       " '__lshift__',\n",
       " '__lt__',\n",
       " '__mod__',\n",
       " '__mul__',\n",
       " '__ne__',\n",
       " '__neg__',\n",
       " '__new__',\n",
       " '__or__',\n",
       " '__pos__',\n",
       " '__pow__',\n",
       " '__radd__',\n",
       " '__rand__',\n",
       " '__rdivmod__',\n",
       " '__reduce__',\n",
       " '__reduce_ex__',\n",
       " '__repr__',\n",
       " '__rfloordiv__',\n",
       " '__rlshift__',\n",
       " '__rmod__',\n",
       " '__rmul__',\n",
       " '__ror__',\n",
       " '__round__',\n",
       " '__rpow__',\n",
       " '__rrshift__',\n",
       " '__rshift__',\n",
       " '__rsub__',\n",
       " '__rtruediv__',\n",
       " '__rxor__',\n",
       " '__setattr__',\n",
       " '__sizeof__',\n",
       " '__str__',\n",
       " '__sub__',\n",
       " '__subclasshook__',\n",
       " '__truediv__',\n",
       " '__trunc__',\n",
       " '__xor__',\n",
       " 'bit_length',\n",
       " 'conjugate',\n",
       " 'denominator',\n",
       " 'from_bytes',\n",
       " 'imag',\n",
       " 'numerator',\n",
       " 'real',\n",
       " 'to_bytes']"
      ]
     },
     "execution_count": 552,
     "metadata": {},
     "output_type": "execute_result"
    }
   ],
   "source": [
    "dir(a)"
   ]
  },
  {
   "cell_type": "markdown",
   "metadata": {},
   "source": [
    "* Si ponemos dir a secas nos dice todas las variables/funciones que tenemos disponibles globalmente:"
   ]
  },
  {
   "cell_type": "code",
   "execution_count": 553,
   "metadata": {},
   "outputs": [
    {
     "data": {
      "text/plain": [
       "['In',\n",
       " 'Out',\n",
       " '_',\n",
       " '_10',\n",
       " '_102',\n",
       " '_11',\n",
       " '_115',\n",
       " '_116',\n",
       " '_12',\n",
       " '_120',\n",
       " '_121',\n",
       " '_123',\n",
       " '_13',\n",
       " '_130',\n",
       " '_131',\n",
       " '_132',\n",
       " '_133',\n",
       " '_134',\n",
       " '_135',\n",
       " '_136',\n",
       " '_137',\n",
       " '_138',\n",
       " '_139',\n",
       " '_14',\n",
       " '_140',\n",
       " '_141',\n",
       " '_143',\n",
       " '_144',\n",
       " '_145',\n",
       " '_146',\n",
       " '_148',\n",
       " '_15',\n",
       " '_150',\n",
       " '_151',\n",
       " '_152',\n",
       " '_153',\n",
       " '_16',\n",
       " '_162',\n",
       " '_175',\n",
       " '_176',\n",
       " '_177',\n",
       " '_180',\n",
       " '_186',\n",
       " '_193',\n",
       " '_200',\n",
       " '_202',\n",
       " '_203',\n",
       " '_204',\n",
       " '_215',\n",
       " '_218',\n",
       " '_22',\n",
       " '_224',\n",
       " '_23',\n",
       " '_237',\n",
       " '_239',\n",
       " '_24',\n",
       " '_241',\n",
       " '_244',\n",
       " '_247',\n",
       " '_248',\n",
       " '_25',\n",
       " '_26',\n",
       " '_27',\n",
       " '_278',\n",
       " '_279',\n",
       " '_28',\n",
       " '_280',\n",
       " '_281',\n",
       " '_282',\n",
       " '_283',\n",
       " '_284',\n",
       " '_285',\n",
       " '_286',\n",
       " '_287',\n",
       " '_288',\n",
       " '_289',\n",
       " '_29',\n",
       " '_291',\n",
       " '_292',\n",
       " '_293',\n",
       " '_294',\n",
       " '_296',\n",
       " '_298',\n",
       " '_299',\n",
       " '_30',\n",
       " '_300',\n",
       " '_301',\n",
       " '_31',\n",
       " '_310',\n",
       " '_32',\n",
       " '_323',\n",
       " '_324',\n",
       " '_325',\n",
       " '_33',\n",
       " '_330',\n",
       " '_336',\n",
       " '_337',\n",
       " '_338',\n",
       " '_346',\n",
       " '_347',\n",
       " '_35',\n",
       " '_350',\n",
       " '_36',\n",
       " '_362',\n",
       " '_363',\n",
       " '_364',\n",
       " '_365',\n",
       " '_366',\n",
       " '_367',\n",
       " '_368',\n",
       " '_369',\n",
       " '_37',\n",
       " '_370',\n",
       " '_371',\n",
       " '_372',\n",
       " '_373',\n",
       " '_375',\n",
       " '_376',\n",
       " '_377',\n",
       " '_378',\n",
       " '_38',\n",
       " '_380',\n",
       " '_382',\n",
       " '_383',\n",
       " '_384',\n",
       " '_385',\n",
       " '_394',\n",
       " '_40',\n",
       " '_407',\n",
       " '_408',\n",
       " '_409',\n",
       " '_414',\n",
       " '_42',\n",
       " '_420',\n",
       " '_421',\n",
       " '_422',\n",
       " '_43',\n",
       " '_430',\n",
       " '_431',\n",
       " '_434',\n",
       " '_44',\n",
       " '_45',\n",
       " '_462',\n",
       " '_463',\n",
       " '_464',\n",
       " '_465',\n",
       " '_466',\n",
       " '_467',\n",
       " '_468',\n",
       " '_469',\n",
       " '_470',\n",
       " '_471',\n",
       " '_472',\n",
       " '_473',\n",
       " '_475',\n",
       " '_476',\n",
       " '_477',\n",
       " '_478',\n",
       " '_480',\n",
       " '_482',\n",
       " '_483',\n",
       " '_484',\n",
       " '_485',\n",
       " '_494',\n",
       " '_5',\n",
       " '_507',\n",
       " '_508',\n",
       " '_509',\n",
       " '_514',\n",
       " '_520',\n",
       " '_521',\n",
       " '_522',\n",
       " '_530',\n",
       " '_531',\n",
       " '_534',\n",
       " '_538',\n",
       " '_54',\n",
       " '_544',\n",
       " '_545',\n",
       " '_546',\n",
       " '_547',\n",
       " '_548',\n",
       " '_549',\n",
       " '_550',\n",
       " '_551',\n",
       " '_552',\n",
       " '_6',\n",
       " '_7',\n",
       " '_70',\n",
       " '_71',\n",
       " '_72',\n",
       " '_73',\n",
       " '_74',\n",
       " '_75',\n",
       " '_76',\n",
       " '_77',\n",
       " '_78',\n",
       " '_79',\n",
       " '_8',\n",
       " '_80',\n",
       " '_81',\n",
       " '_83',\n",
       " '_84',\n",
       " '_85',\n",
       " '_86',\n",
       " '_88',\n",
       " '_9',\n",
       " '_90',\n",
       " '_91',\n",
       " '_92',\n",
       " '_93',\n",
       " '__',\n",
       " '___',\n",
       " '__builtin__',\n",
       " '__builtins__',\n",
       " '__doc__',\n",
       " '__loader__',\n",
       " '__name__',\n",
       " '__nonzero__',\n",
       " '__package__',\n",
       " '__spec__',\n",
       " '_dh',\n",
       " '_exit_code',\n",
       " '_i',\n",
       " '_i1',\n",
       " '_i10',\n",
       " '_i100',\n",
       " '_i101',\n",
       " '_i102',\n",
       " '_i103',\n",
       " '_i104',\n",
       " '_i105',\n",
       " '_i106',\n",
       " '_i107',\n",
       " '_i108',\n",
       " '_i109',\n",
       " '_i11',\n",
       " '_i110',\n",
       " '_i111',\n",
       " '_i112',\n",
       " '_i113',\n",
       " '_i114',\n",
       " '_i115',\n",
       " '_i116',\n",
       " '_i117',\n",
       " '_i118',\n",
       " '_i119',\n",
       " '_i12',\n",
       " '_i120',\n",
       " '_i121',\n",
       " '_i122',\n",
       " '_i123',\n",
       " '_i124',\n",
       " '_i125',\n",
       " '_i126',\n",
       " '_i127',\n",
       " '_i128',\n",
       " '_i129',\n",
       " '_i13',\n",
       " '_i130',\n",
       " '_i131',\n",
       " '_i132',\n",
       " '_i133',\n",
       " '_i134',\n",
       " '_i135',\n",
       " '_i136',\n",
       " '_i137',\n",
       " '_i138',\n",
       " '_i139',\n",
       " '_i14',\n",
       " '_i140',\n",
       " '_i141',\n",
       " '_i142',\n",
       " '_i143',\n",
       " '_i144',\n",
       " '_i145',\n",
       " '_i146',\n",
       " '_i147',\n",
       " '_i148',\n",
       " '_i149',\n",
       " '_i15',\n",
       " '_i150',\n",
       " '_i151',\n",
       " '_i152',\n",
       " '_i153',\n",
       " '_i154',\n",
       " '_i155',\n",
       " '_i156',\n",
       " '_i157',\n",
       " '_i158',\n",
       " '_i159',\n",
       " '_i16',\n",
       " '_i160',\n",
       " '_i161',\n",
       " '_i162',\n",
       " '_i163',\n",
       " '_i164',\n",
       " '_i165',\n",
       " '_i166',\n",
       " '_i167',\n",
       " '_i168',\n",
       " '_i169',\n",
       " '_i17',\n",
       " '_i170',\n",
       " '_i171',\n",
       " '_i172',\n",
       " '_i173',\n",
       " '_i174',\n",
       " '_i175',\n",
       " '_i176',\n",
       " '_i177',\n",
       " '_i178',\n",
       " '_i179',\n",
       " '_i18',\n",
       " '_i180',\n",
       " '_i181',\n",
       " '_i182',\n",
       " '_i183',\n",
       " '_i184',\n",
       " '_i185',\n",
       " '_i186',\n",
       " '_i187',\n",
       " '_i188',\n",
       " '_i189',\n",
       " '_i19',\n",
       " '_i190',\n",
       " '_i191',\n",
       " '_i192',\n",
       " '_i193',\n",
       " '_i194',\n",
       " '_i195',\n",
       " '_i196',\n",
       " '_i197',\n",
       " '_i198',\n",
       " '_i199',\n",
       " '_i2',\n",
       " '_i20',\n",
       " '_i200',\n",
       " '_i201',\n",
       " '_i202',\n",
       " '_i203',\n",
       " '_i204',\n",
       " '_i205',\n",
       " '_i206',\n",
       " '_i207',\n",
       " '_i208',\n",
       " '_i209',\n",
       " '_i21',\n",
       " '_i210',\n",
       " '_i211',\n",
       " '_i212',\n",
       " '_i213',\n",
       " '_i214',\n",
       " '_i215',\n",
       " '_i216',\n",
       " '_i217',\n",
       " '_i218',\n",
       " '_i219',\n",
       " '_i22',\n",
       " '_i220',\n",
       " '_i221',\n",
       " '_i222',\n",
       " '_i223',\n",
       " '_i224',\n",
       " '_i225',\n",
       " '_i226',\n",
       " '_i227',\n",
       " '_i228',\n",
       " '_i229',\n",
       " '_i23',\n",
       " '_i230',\n",
       " '_i231',\n",
       " '_i232',\n",
       " '_i233',\n",
       " '_i234',\n",
       " '_i235',\n",
       " '_i236',\n",
       " '_i237',\n",
       " '_i238',\n",
       " '_i239',\n",
       " '_i24',\n",
       " '_i240',\n",
       " '_i241',\n",
       " '_i242',\n",
       " '_i243',\n",
       " '_i244',\n",
       " '_i245',\n",
       " '_i246',\n",
       " '_i247',\n",
       " '_i248',\n",
       " '_i249',\n",
       " '_i25',\n",
       " '_i250',\n",
       " '_i251',\n",
       " '_i252',\n",
       " '_i253',\n",
       " '_i254',\n",
       " '_i255',\n",
       " '_i256',\n",
       " '_i257',\n",
       " '_i258',\n",
       " '_i259',\n",
       " '_i26',\n",
       " '_i260',\n",
       " '_i261',\n",
       " '_i262',\n",
       " '_i263',\n",
       " '_i264',\n",
       " '_i265',\n",
       " '_i266',\n",
       " '_i267',\n",
       " '_i268',\n",
       " '_i269',\n",
       " '_i27',\n",
       " '_i270',\n",
       " '_i271',\n",
       " '_i272',\n",
       " '_i273',\n",
       " '_i274',\n",
       " '_i275',\n",
       " '_i276',\n",
       " '_i277',\n",
       " '_i278',\n",
       " '_i279',\n",
       " '_i28',\n",
       " '_i280',\n",
       " '_i281',\n",
       " '_i282',\n",
       " '_i283',\n",
       " '_i284',\n",
       " '_i285',\n",
       " '_i286',\n",
       " '_i287',\n",
       " '_i288',\n",
       " '_i289',\n",
       " '_i29',\n",
       " '_i290',\n",
       " '_i291',\n",
       " '_i292',\n",
       " '_i293',\n",
       " '_i294',\n",
       " '_i295',\n",
       " '_i296',\n",
       " '_i297',\n",
       " '_i298',\n",
       " '_i299',\n",
       " '_i3',\n",
       " '_i30',\n",
       " '_i300',\n",
       " '_i301',\n",
       " '_i302',\n",
       " '_i303',\n",
       " '_i304',\n",
       " '_i305',\n",
       " '_i306',\n",
       " '_i307',\n",
       " '_i308',\n",
       " '_i309',\n",
       " '_i31',\n",
       " '_i310',\n",
       " '_i311',\n",
       " '_i312',\n",
       " '_i313',\n",
       " '_i314',\n",
       " '_i315',\n",
       " '_i316',\n",
       " '_i317',\n",
       " '_i318',\n",
       " '_i319',\n",
       " '_i32',\n",
       " '_i320',\n",
       " '_i321',\n",
       " '_i322',\n",
       " '_i323',\n",
       " '_i324',\n",
       " '_i325',\n",
       " '_i326',\n",
       " '_i327',\n",
       " '_i328',\n",
       " '_i329',\n",
       " '_i33',\n",
       " '_i330',\n",
       " '_i331',\n",
       " '_i332',\n",
       " '_i333',\n",
       " '_i334',\n",
       " '_i335',\n",
       " '_i336',\n",
       " '_i337',\n",
       " '_i338',\n",
       " '_i339',\n",
       " '_i34',\n",
       " '_i340',\n",
       " '_i341',\n",
       " '_i342',\n",
       " '_i343',\n",
       " '_i344',\n",
       " '_i345',\n",
       " '_i346',\n",
       " '_i347',\n",
       " '_i348',\n",
       " '_i349',\n",
       " '_i35',\n",
       " '_i350',\n",
       " '_i351',\n",
       " '_i352',\n",
       " '_i353',\n",
       " '_i354',\n",
       " '_i355',\n",
       " '_i356',\n",
       " '_i357',\n",
       " '_i358',\n",
       " '_i359',\n",
       " '_i36',\n",
       " '_i360',\n",
       " '_i361',\n",
       " '_i362',\n",
       " '_i363',\n",
       " '_i364',\n",
       " '_i365',\n",
       " '_i366',\n",
       " '_i367',\n",
       " '_i368',\n",
       " '_i369',\n",
       " '_i37',\n",
       " '_i370',\n",
       " '_i371',\n",
       " '_i372',\n",
       " '_i373',\n",
       " '_i374',\n",
       " '_i375',\n",
       " '_i376',\n",
       " '_i377',\n",
       " '_i378',\n",
       " '_i379',\n",
       " '_i38',\n",
       " '_i380',\n",
       " '_i381',\n",
       " '_i382',\n",
       " '_i383',\n",
       " '_i384',\n",
       " '_i385',\n",
       " '_i386',\n",
       " '_i387',\n",
       " '_i388',\n",
       " '_i389',\n",
       " '_i39',\n",
       " '_i390',\n",
       " '_i391',\n",
       " '_i392',\n",
       " '_i393',\n",
       " '_i394',\n",
       " '_i395',\n",
       " '_i396',\n",
       " '_i397',\n",
       " '_i398',\n",
       " '_i399',\n",
       " '_i4',\n",
       " '_i40',\n",
       " '_i400',\n",
       " '_i401',\n",
       " '_i402',\n",
       " '_i403',\n",
       " '_i404',\n",
       " '_i405',\n",
       " '_i406',\n",
       " '_i407',\n",
       " '_i408',\n",
       " '_i409',\n",
       " '_i41',\n",
       " '_i410',\n",
       " '_i411',\n",
       " '_i412',\n",
       " '_i413',\n",
       " '_i414',\n",
       " '_i415',\n",
       " '_i416',\n",
       " '_i417',\n",
       " '_i418',\n",
       " '_i419',\n",
       " '_i42',\n",
       " '_i420',\n",
       " '_i421',\n",
       " '_i422',\n",
       " '_i423',\n",
       " '_i424',\n",
       " '_i425',\n",
       " '_i426',\n",
       " '_i427',\n",
       " '_i428',\n",
       " '_i429',\n",
       " '_i43',\n",
       " '_i430',\n",
       " '_i431',\n",
       " '_i432',\n",
       " '_i433',\n",
       " '_i434',\n",
       " '_i435',\n",
       " '_i436',\n",
       " '_i437',\n",
       " '_i438',\n",
       " '_i439',\n",
       " '_i44',\n",
       " '_i440',\n",
       " '_i441',\n",
       " '_i442',\n",
       " '_i443',\n",
       " '_i444',\n",
       " '_i445',\n",
       " '_i446',\n",
       " '_i447',\n",
       " '_i448',\n",
       " '_i449',\n",
       " '_i45',\n",
       " '_i450',\n",
       " '_i451',\n",
       " '_i452',\n",
       " '_i453',\n",
       " '_i454',\n",
       " '_i455',\n",
       " '_i456',\n",
       " '_i457',\n",
       " '_i458',\n",
       " '_i459',\n",
       " '_i46',\n",
       " '_i460',\n",
       " '_i461',\n",
       " '_i462',\n",
       " '_i463',\n",
       " '_i464',\n",
       " '_i465',\n",
       " '_i466',\n",
       " '_i467',\n",
       " '_i468',\n",
       " '_i469',\n",
       " '_i47',\n",
       " '_i470',\n",
       " '_i471',\n",
       " '_i472',\n",
       " '_i473',\n",
       " '_i474',\n",
       " '_i475',\n",
       " '_i476',\n",
       " '_i477',\n",
       " '_i478',\n",
       " '_i479',\n",
       " '_i48',\n",
       " '_i480',\n",
       " '_i481',\n",
       " '_i482',\n",
       " '_i483',\n",
       " '_i484',\n",
       " '_i485',\n",
       " '_i486',\n",
       " '_i487',\n",
       " '_i488',\n",
       " '_i489',\n",
       " '_i49',\n",
       " '_i490',\n",
       " '_i491',\n",
       " '_i492',\n",
       " '_i493',\n",
       " '_i494',\n",
       " '_i495',\n",
       " '_i496',\n",
       " '_i497',\n",
       " '_i498',\n",
       " '_i499',\n",
       " '_i5',\n",
       " '_i50',\n",
       " '_i500',\n",
       " '_i501',\n",
       " '_i502',\n",
       " '_i503',\n",
       " '_i504',\n",
       " '_i505',\n",
       " '_i506',\n",
       " '_i507',\n",
       " '_i508',\n",
       " '_i509',\n",
       " '_i51',\n",
       " '_i510',\n",
       " '_i511',\n",
       " '_i512',\n",
       " '_i513',\n",
       " '_i514',\n",
       " '_i515',\n",
       " '_i516',\n",
       " '_i517',\n",
       " '_i518',\n",
       " '_i519',\n",
       " '_i52',\n",
       " '_i520',\n",
       " '_i521',\n",
       " '_i522',\n",
       " '_i523',\n",
       " '_i524',\n",
       " '_i525',\n",
       " '_i526',\n",
       " '_i527',\n",
       " '_i528',\n",
       " '_i529',\n",
       " '_i53',\n",
       " '_i530',\n",
       " '_i531',\n",
       " '_i532',\n",
       " '_i533',\n",
       " '_i534',\n",
       " '_i535',\n",
       " '_i536',\n",
       " '_i537',\n",
       " '_i538',\n",
       " '_i539',\n",
       " '_i54',\n",
       " '_i540',\n",
       " '_i541',\n",
       " '_i542',\n",
       " '_i543',\n",
       " '_i544',\n",
       " '_i545',\n",
       " '_i546',\n",
       " '_i547',\n",
       " '_i548',\n",
       " '_i549',\n",
       " '_i55',\n",
       " '_i550',\n",
       " '_i551',\n",
       " '_i552',\n",
       " '_i553',\n",
       " '_i56',\n",
       " '_i57',\n",
       " '_i58',\n",
       " '_i59',\n",
       " '_i6',\n",
       " '_i60',\n",
       " '_i61',\n",
       " '_i62',\n",
       " '_i63',\n",
       " '_i64',\n",
       " '_i65',\n",
       " '_i66',\n",
       " '_i67',\n",
       " '_i68',\n",
       " '_i69',\n",
       " '_i7',\n",
       " '_i70',\n",
       " '_i71',\n",
       " '_i72',\n",
       " '_i73',\n",
       " '_i74',\n",
       " '_i75',\n",
       " '_i76',\n",
       " '_i77',\n",
       " '_i78',\n",
       " '_i79',\n",
       " '_i8',\n",
       " '_i80',\n",
       " '_i81',\n",
       " '_i82',\n",
       " '_i83',\n",
       " '_i84',\n",
       " '_i85',\n",
       " '_i86',\n",
       " '_i87',\n",
       " '_i88',\n",
       " '_i89',\n",
       " '_i9',\n",
       " '_i90',\n",
       " '_i91',\n",
       " '_i92',\n",
       " '_i93',\n",
       " '_i94',\n",
       " '_i95',\n",
       " '_i96',\n",
       " '_i97',\n",
       " '_i98',\n",
       " '_i99',\n",
       " '_ih',\n",
       " '_ii',\n",
       " '_iii',\n",
       " '_oh',\n",
       " 'a',\n",
       " 'b',\n",
       " 'c',\n",
       " 'calcular_peso',\n",
       " 'centenario',\n",
       " 'd',\n",
       " 'dame_tupla',\n",
       " 'entero',\n",
       " 'exit',\n",
       " 'flotante',\n",
       " 'frase',\n",
       " 'func',\n",
       " 'get_ipython',\n",
       " 'h',\n",
       " 'hola_con_puntos',\n",
       " 'incrementar',\n",
       " 'item',\n",
       " 'list',\n",
       " 'lista1',\n",
       " 'lista2',\n",
       " 'm',\n",
       " 'max_of_three',\n",
       " 'max_of_three_version_ma',\n",
       " 'max_version_pro',\n",
       " 'mi_funcion',\n",
       " 'my_function',\n",
       " 'n',\n",
       " 'p',\n",
       " 'peso_en_marte',\n",
       " 'peso_en_tierra',\n",
       " 'quit',\n",
       " 'r',\n",
       " 'remove_Nth_character',\n",
       " 'saludo',\n",
       " 'sequence',\n",
       " 'str',\n",
       " 't',\n",
       " 'template',\n",
       " 'text',\n",
       " 'texto',\n",
       " 'total',\n",
       " 'vacia',\n",
       " 'val',\n",
       " 'valor_devuelto',\n",
       " 'wc',\n",
       " 'x']"
      ]
     },
     "execution_count": 553,
     "metadata": {},
     "output_type": "execute_result"
    }
   ],
   "source": [
    "dir()"
   ]
  },
  {
   "cell_type": "markdown",
   "metadata": {},
   "source": [
    "* Para comprobar si algo tiene un atributo"
   ]
  },
  {
   "cell_type": "code",
   "execution_count": 554,
   "metadata": {},
   "outputs": [
    {
     "data": {
      "text/plain": [
       "False"
      ]
     },
     "execution_count": 554,
     "metadata": {},
     "output_type": "execute_result"
    }
   ],
   "source": [
    "hasattr(a,'split')"
   ]
  },
  {
   "cell_type": "code",
   "execution_count": 555,
   "metadata": {},
   "outputs": [
    {
     "data": {
      "text/plain": [
       "True"
      ]
     },
     "execution_count": 555,
     "metadata": {},
     "output_type": "execute_result"
    }
   ],
   "source": [
    "hasattr(text,'split')"
   ]
  },
  {
   "cell_type": "markdown",
   "metadata": {},
   "source": [
    "* Python está fuertemente tipado. Esto da error. "
   ]
  },
  {
   "cell_type": "code",
   "execution_count": 556,
   "metadata": {},
   "outputs": [],
   "source": [
    "# 5 + \"5\""
   ]
  },
  {
   "cell_type": "markdown",
   "metadata": {},
   "source": [
    "* Esto sí, claro:"
   ]
  },
  {
   "cell_type": "code",
   "execution_count": 557,
   "metadata": {},
   "outputs": [
    {
     "data": {
      "text/plain": [
       "10.3"
      ]
     },
     "execution_count": 557,
     "metadata": {},
     "output_type": "execute_result"
    }
   ],
   "source": [
    "5 + 5.3"
   ]
  },
  {
   "cell_type": "markdown",
   "metadata": {},
   "source": [
    "* Pero ojo, ver esto:"
   ]
  },
  {
   "cell_type": "code",
   "execution_count": 558,
   "metadata": {},
   "outputs": [
    {
     "data": {
      "text/plain": [
       "int"
      ]
     },
     "execution_count": 558,
     "metadata": {},
     "output_type": "execute_result"
    }
   ],
   "source": [
    "a = 5\n",
    "type(a)"
   ]
  },
  {
   "cell_type": "code",
   "execution_count": 559,
   "metadata": {},
   "outputs": [
    {
     "data": {
      "text/plain": [
       "float"
      ]
     },
     "execution_count": 559,
     "metadata": {},
     "output_type": "execute_result"
    }
   ],
   "source": [
    "b = 5.3\n",
    "type(b)"
   ]
  },
  {
   "cell_type": "code",
   "execution_count": 560,
   "metadata": {},
   "outputs": [
    {
     "data": {
      "text/plain": [
       "float"
      ]
     },
     "execution_count": 560,
     "metadata": {},
     "output_type": "execute_result"
    }
   ],
   "source": [
    "c = a+b\n",
    "type(c)"
   ]
  },
  {
   "cell_type": "markdown",
   "metadata": {},
   "source": [
    "* Podemos concaternar comandos en la misma línea usando el '_;_'"
   ]
  },
  {
   "cell_type": "code",
   "execution_count": 561,
   "metadata": {},
   "outputs": [
    {
     "name": "stdout",
     "output_type": "stream",
     "text": [
      "6\n"
     ]
    }
   ],
   "source": [
    "a = 5; b = a + 1;print(b)"
   ]
  },
  {
   "cell_type": "markdown",
   "metadata": {},
   "source": [
    "* Concatenación de strings"
   ]
  },
  {
   "cell_type": "code",
   "execution_count": 562,
   "metadata": {},
   "outputs": [
    {
     "data": {
      "text/plain": [
       "'JuanLuis'"
      ]
     },
     "execution_count": 562,
     "metadata": {},
     "output_type": "execute_result"
    }
   ],
   "source": [
    "'Juan'+ \"Luis\""
   ]
  },
  {
   "cell_type": "markdown",
   "metadata": {},
   "source": [
    "* El valor nulo es con none"
   ]
  },
  {
   "cell_type": "code",
   "execution_count": 563,
   "metadata": {},
   "outputs": [
    {
     "name": "stdout",
     "output_type": "stream",
     "text": [
      "None\n"
     ]
    }
   ],
   "source": [
    "n = None\n",
    "print(n)"
   ]
  },
  {
   "cell_type": "code",
   "execution_count": 564,
   "metadata": {},
   "outputs": [
    {
     "data": {
      "text/plain": [
       "True"
      ]
     },
     "execution_count": 564,
     "metadata": {},
     "output_type": "execute_result"
    }
   ],
   "source": [
    "n is None"
   ]
  },
  {
   "cell_type": "code",
   "execution_count": 565,
   "metadata": {},
   "outputs": [
    {
     "data": {
      "text/plain": [
       "False"
      ]
     },
     "execution_count": 565,
     "metadata": {},
     "output_type": "execute_result"
    }
   ],
   "source": [
    "m = \"55\"\n",
    "m is None"
   ]
  },
  {
   "cell_type": "markdown",
   "metadata": {},
   "source": [
    "## Estructuras de datos"
   ]
  },
  {
   "cell_type": "markdown",
   "metadata": {},
   "source": [
    "### Lista"
   ]
  },
  {
   "cell_type": "code",
   "execution_count": 566,
   "metadata": {},
   "outputs": [
    {
     "data": {
      "text/plain": [
       "list"
      ]
     },
     "execution_count": 566,
     "metadata": {},
     "output_type": "execute_result"
    }
   ],
   "source": [
    "lista1 = [3,1,2,3,5]\n",
    "type(lista1)"
   ]
  },
  {
   "cell_type": "code",
   "execution_count": 567,
   "metadata": {},
   "outputs": [
    {
     "data": {
      "text/plain": [
       "list"
      ]
     },
     "execution_count": 567,
     "metadata": {},
     "output_type": "execute_result"
    }
   ],
   "source": [
    "lista1  = [\"hol\",\"hel\"]\n",
    "type(lista1)"
   ]
  },
  {
   "cell_type": "markdown",
   "metadata": {},
   "source": [
    "* Nota que se puede machacar la variable con otro tipo"
   ]
  },
  {
   "cell_type": "code",
   "execution_count": 568,
   "metadata": {},
   "outputs": [
    {
     "name": "stdout",
     "output_type": "stream",
     "text": [
      "[3, 'hola', 55, False]\n"
     ]
    }
   ],
   "source": [
    "lista2 = [3, 'hola', 55, False]\n",
    "print(lista2)"
   ]
  },
  {
   "cell_type": "markdown",
   "metadata": {},
   "source": [
    "### Tupla "
   ]
  },
  {
   "cell_type": "markdown",
   "metadata": {},
   "source": [
    "TO DO"
   ]
  },
  {
   "cell_type": "markdown",
   "metadata": {},
   "source": [
    "### Diccionario"
   ]
  },
  {
   "cell_type": "markdown",
   "metadata": {},
   "source": [
    "TO DO"
   ]
  },
  {
   "cell_type": "markdown",
   "metadata": {},
   "source": [
    "### Set"
   ]
  },
  {
   "cell_type": "markdown",
   "metadata": {},
   "source": [
    "TO DO"
   ]
  },
  {
   "cell_type": "markdown",
   "metadata": {},
   "source": [
    "##  Tipos por referencia..."
   ]
  },
  {
   "cell_type": "code",
   "execution_count": 569,
   "metadata": {},
   "outputs": [
    {
     "name": "stdout",
     "output_type": "stream",
     "text": [
      "[1, 2, 3, 4]\n"
     ]
    }
   ],
   "source": [
    "a = [1,2,3]\n",
    "b = a\n",
    "a.append(4)\n",
    "print(b)"
   ]
  },
  {
   "cell_type": "markdown",
   "metadata": {},
   "source": [
    "* B cambia también, porque es una referencia"
   ]
  },
  {
   "cell_type": "markdown",
   "metadata": {},
   "source": [
    "* Si quiero una copia, tengo que usar _copy_"
   ]
  },
  {
   "cell_type": "code",
   "execution_count": 570,
   "metadata": {},
   "outputs": [
    {
     "name": "stdout",
     "output_type": "stream",
     "text": [
      "[1, 2, 3, 4, 5]\n",
      "[1, 2, 3, 4]\n"
     ]
    }
   ],
   "source": [
    "c = a.copy()\n",
    "a.append(5)\n",
    "print(a)\n",
    "print(c)"
   ]
  },
  {
   "cell_type": "markdown",
   "metadata": {},
   "source": [
    "## Control de flujo"
   ]
  },
  {
   "cell_type": "markdown",
   "metadata": {},
   "source": [
    "* if"
   ]
  },
  {
   "cell_type": "code",
   "execution_count": 571,
   "metadata": {},
   "outputs": [
    {
     "name": "stdout",
     "output_type": "stream",
     "text": [
      "Es menor que cero\n"
     ]
    }
   ],
   "source": [
    "x=-1\n",
    "if x<0:\n",
    "    print(\"Es menor que cero\")\n",
    "    x=x+1"
   ]
  },
  {
   "cell_type": "markdown",
   "metadata": {},
   "source": [
    "* else/elif"
   ]
  },
  {
   "cell_type": "code",
   "execution_count": 572,
   "metadata": {},
   "outputs": [
    {
     "name": "stdout",
     "output_type": "stream",
     "text": [
      "Buf, es un número enorme\n"
     ]
    }
   ],
   "source": [
    "x = 4\n",
    "if x < 0 :\n",
    "    print(\"Es menor que cero\")\n",
    "elif x < 2:\n",
    "    print(\"Está entre cero y dos, no incluidos\")\n",
    "elif x == 3:\n",
    "    print(\"Es 3\")\n",
    "else:\n",
    "    print(\"Buf, es un número enorme\")   \n"
   ]
  },
  {
   "cell_type": "markdown",
   "metadata": {},
   "source": [
    "* for (en el fondo el for de python es un foreach de C#, Java, etc.)"
   ]
  },
  {
   "cell_type": "code",
   "execution_count": 573,
   "metadata": {},
   "outputs": [
    {
     "name": "stdout",
     "output_type": "stream",
     "text": [
      "1\n",
      "2\n",
      "3\n"
     ]
    }
   ],
   "source": [
    "sequence = [1,2,3]\n",
    "for item in sequence:\n",
    "    print(item)"
   ]
  },
  {
   "cell_type": "markdown",
   "metadata": {},
   "source": [
    "* for (2): _continue_ y _break_"
   ]
  },
  {
   "cell_type": "code",
   "execution_count": 574,
   "metadata": {},
   "outputs": [
    {
     "name": "stdout",
     "output_type": "stream",
     "text": [
      "12\n"
     ]
    }
   ],
   "source": [
    "sequence = [1,2,None,4,None,5, \"Hasta aquí\", 8,9]\n",
    "total = 0\n",
    "for item in sequence:\n",
    "    if item is None:\n",
    "        continue\n",
    "    if item == \"Hasta aquí\":\n",
    "        break\n",
    "    total = total + item\n",
    "    \n",
    "print(total)"
   ]
  },
  {
   "cell_type": "markdown",
   "metadata": {},
   "source": [
    "* while"
   ]
  },
  {
   "cell_type": "code",
   "execution_count": 575,
   "metadata": {},
   "outputs": [],
   "source": [
    "x = 256\n",
    "total = 0\n",
    "while x > 0:\n",
    "    if total > 500:\n",
    "        break\n",
    "    total += x\n",
    "    x = x//2"
   ]
  },
  {
   "cell_type": "markdown",
   "metadata": {},
   "source": [
    "## Funciones en python"
   ]
  },
  {
   "cell_type": "code",
   "execution_count": 576,
   "metadata": {},
   "outputs": [
    {
     "data": {
      "text/plain": [
       "3"
      ]
     },
     "execution_count": 576,
     "metadata": {},
     "output_type": "execute_result"
    }
   ],
   "source": [
    "def my_function(x,y):\n",
    "    return x + y\n",
    "\n",
    "my_function(1,2)"
   ]
  },
  {
   "cell_type": "markdown",
   "metadata": {},
   "source": [
    "* Puede tener parámetros por defecto"
   ]
  },
  {
   "cell_type": "code",
   "execution_count": 577,
   "metadata": {},
   "outputs": [
    {
     "name": "stdout",
     "output_type": "stream",
     "text": [
      "6\n",
      "3\n"
     ]
    }
   ],
   "source": [
    "def my_function(x,y,z=0):\n",
    "    return x+y+z\n",
    "\n",
    "print(my_function(1,2,3))\n",
    "print(my_function(1,2))\n"
   ]
  },
  {
   "cell_type": "code",
   "execution_count": 578,
   "metadata": {},
   "outputs": [
    {
     "name": "stdout",
     "output_type": "stream",
     "text": [
      "98.0\n",
      "37.0\n"
     ]
    }
   ],
   "source": [
    "def calcular_peso(m,g=9.8):\n",
    "    return m * g\n",
    "\n",
    "peso_en_tierra = calcular_peso(10)\n",
    "print(peso_en_tierra)\n",
    "peso_en_marte = calcular_peso(10,3.7)\n",
    "print(peso_en_marte)"
   ]
  },
  {
   "cell_type": "markdown",
   "metadata": {},
   "source": [
    "* Si a una función no le pones return, entonces devuelve None. Se comporta como javascript con undefined"
   ]
  },
  {
   "cell_type": "code",
   "execution_count": 579,
   "metadata": {},
   "outputs": [
    {
     "name": "stdout",
     "output_type": "stream",
     "text": [
      "None\n"
     ]
    }
   ],
   "source": [
    "def vacia(a):\n",
    "    a = a + 2\n",
    "\n",
    "valor_devuelto = vacia(2)\n",
    "print(valor_devuelto)"
   ]
  },
  {
   "cell_type": "markdown",
   "metadata": {},
   "source": [
    "* Puedo devolver una tupla así:\n"
   ]
  },
  {
   "cell_type": "code",
   "execution_count": 580,
   "metadata": {},
   "outputs": [
    {
     "name": "stdout",
     "output_type": "stream",
     "text": [
      "(1, 2)\n"
     ]
    }
   ],
   "source": [
    "def dame_tupla():\n",
    "    a = 1\n",
    "    b = 2\n",
    "    return a,b\n",
    "\n",
    "print(dame_tupla())"
   ]
  },
  {
   "cell_type": "markdown",
   "metadata": {},
   "source": [
    "* También puedo guardar esta tupla en valores individuales"
   ]
  },
  {
   "cell_type": "code",
   "execution_count": 581,
   "metadata": {},
   "outputs": [
    {
     "name": "stdout",
     "output_type": "stream",
     "text": [
      "1\n",
      "2\n"
     ]
    }
   ],
   "source": [
    "c,d = dame_tupla()\n",
    "print(c)\n",
    "print(d)"
   ]
  },
  {
   "cell_type": "markdown",
   "metadata": {},
   "source": [
    "* Las variables definidas dentro de una función sólo funcionan dentro del ámbito de esa función"
   ]
  },
  {
   "cell_type": "code",
   "execution_count": 582,
   "metadata": {},
   "outputs": [
    {
     "name": "stdout",
     "output_type": "stream",
     "text": [
      "55\n"
     ]
    }
   ],
   "source": [
    "a = 55\n",
    "def func():\n",
    "    a = 3 # Ésta a es una variable interna a func, no tiene nada que ver con la a de fuera\n",
    "\n",
    "print(a)"
   ]
  },
  {
   "cell_type": "markdown",
   "metadata": {},
   "source": [
    "* Las variables globales se ven dentro de la función"
   ]
  },
  {
   "cell_type": "code",
   "execution_count": 583,
   "metadata": {},
   "outputs": [
    {
     "name": "stdout",
     "output_type": "stream",
     "text": [
      "10\n"
     ]
    }
   ],
   "source": [
    "a = 10\n",
    "def incrementar():\n",
    "    a += 10\n",
    "\n",
    "print(a)"
   ]
  },
  {
   "cell_type": "markdown",
   "metadata": {},
   "source": [
    "* Si declaro una variable con el mismo nombre dentro del aḿbito, ya no se usa la global"
   ]
  },
  {
   "cell_type": "code",
   "execution_count": 584,
   "metadata": {},
   "outputs": [
    {
     "name": "stdout",
     "output_type": "stream",
     "text": [
      "10\n"
     ]
    }
   ],
   "source": [
    "a = 10\n",
    "def incrementar():\n",
    "    a = 1\n",
    "    a = 678\n",
    "\n",
    "print(a)"
   ]
  },
  {
   "cell_type": "markdown",
   "metadata": {},
   "source": [
    "* Puedo declarar una variable global dentro de una función"
   ]
  },
  {
   "cell_type": "code",
   "execution_count": 585,
   "metadata": {},
   "outputs": [
    {
     "name": "stdout",
     "output_type": "stream",
     "text": [
      "0\n",
      "33\n"
     ]
    }
   ],
   "source": [
    "h = 0\n",
    "def func():\n",
    "    global h\n",
    "    h = 33\n",
    "    \n",
    "print(h)\n",
    "func()\n",
    "print(h)"
   ]
  },
  {
   "cell_type": "markdown",
   "metadata": {},
   "source": [
    "* Se pueden definir funciones internas"
   ]
  },
  {
   "cell_type": "code",
   "execution_count": 586,
   "metadata": {},
   "outputs": [
    {
     "name": "stdout",
     "output_type": "stream",
     "text": [
      "3\n"
     ]
    }
   ],
   "source": [
    "def mi_funcion(a,b):\n",
    "    def calcula_resultado():\n",
    "        return a + b\n",
    "    \n",
    "    resultado = calcula_resultado()\n",
    "    return resultado\n",
    "\n",
    "    \n",
    "print(mi_funcion(1,2))"
   ]
  },
  {
   "cell_type": "markdown",
   "metadata": {},
   "source": [
    "* Pero hay que definirlas debajo, nada de definirlas abajo porque no las encontrará :"
   ]
  },
  {
   "cell_type": "code",
   "execution_count": 587,
   "metadata": {},
   "outputs": [],
   "source": [
    "def mi_funcion(a,b):\n",
    "    resultado = calcula_resultado()\n",
    "    return resultado\n",
    "\n",
    "    def calcula_resultado():\n",
    "        return a + b\n",
    "    \n",
    "# print(mi_funcion(1,2)). Falla"
   ]
  },
  {
   "cell_type": "markdown",
   "metadata": {},
   "source": [
    "* Diferencia entre pass y return: (Fuente: https://stackoverflow.com/a/25029532). "
   ]
  },
  {
   "cell_type": "code",
   "execution_count": 588,
   "metadata": {},
   "outputs": [
    {
     "name": "stdout",
     "output_type": "stream",
     "text": [
      "Executes both blocks.\n",
      "1\n",
      "2\n",
      "Executes only the first block.\n",
      "1\n"
     ]
    }
   ],
   "source": [
    "def p():\n",
    "  print(\"Executes both blocks.\")\n",
    "  if 1:\n",
    "    print(1)\n",
    "    pass\n",
    "  if 1:\n",
    "    print(2)\n",
    "    pass\n",
    "\n",
    "def r():\n",
    "  print(\"Executes only the first block.\")\n",
    "  if 1:\n",
    "    print(1)\n",
    "    return\n",
    "  if 1:\n",
    "    print(2)\n",
    "    return\n",
    "\n",
    "p()\n",
    "r()"
   ]
  },
  {
   "cell_type": "markdown",
   "metadata": {},
   "source": [
    "## Ejercicios"
   ]
  },
  {
   "cell_type": "markdown",
   "metadata": {},
   "source": [
    "* Crear una función  para obtener el máximo de 3 números. Con sólo UNA variable local\n"
   ]
  },
  {
   "cell_type": "code",
   "execution_count": 589,
   "metadata": {},
   "outputs": [
    {
     "name": "stdout",
     "output_type": "stream",
     "text": [
      "3\n",
      "3\n",
      "3\n",
      "3\n",
      "3\n",
      "3\n"
     ]
    },
    {
     "data": {
      "text/plain": [
       "3"
      ]
     },
     "execution_count": 589,
     "metadata": {},
     "output_type": "execute_result"
    }
   ],
   "source": [
    "def max_of_three(a,b,c):\n",
    "    max = a\n",
    "    if b > max:\n",
    "        max = b\n",
    "    if c > max:\n",
    "        max = c\n",
    "    \n",
    "    print(max)\n",
    "    \n",
    "    return max\n",
    "\n",
    "max_of_three(1,2,3)\n",
    "max_of_three(1,3,2)\n",
    "max_of_three(2,1,3)\n",
    "max_of_three(2,3,1)\n",
    "max_of_three(3,1,2)\n",
    "max_of_three(3,2,1)"
   ]
  },
  {
   "cell_type": "code",
   "execution_count": 590,
   "metadata": {},
   "outputs": [
    {
     "name": "stdout",
     "output_type": "stream",
     "text": [
      "3\n",
      "3\n",
      "3\n",
      "3\n",
      "3\n",
      "3\n"
     ]
    },
    {
     "data": {
      "text/plain": [
       "3"
      ]
     },
     "execution_count": 590,
     "metadata": {},
     "output_type": "execute_result"
    }
   ],
   "source": [
    "def max_of_three_version_ma(a,b,c):\n",
    "    max = a;\n",
    "    for numero in [b,c]:\n",
    "        if(numero > max):\n",
    "            max = numero\n",
    "    \n",
    "    print(max)\n",
    "    return max\n",
    "\n",
    "max_of_three_version_ma(1,2,3)\n",
    "max_of_three_version_ma(1,3,2)\n",
    "max_of_three_version_ma(2,1,3)\n",
    "max_of_three_version_ma(2,3,1)\n",
    "max_of_three_version_ma(3,1,2)\n",
    "max_of_three_version_ma(3,2,1)"
   ]
  },
  {
   "cell_type": "code",
   "execution_count": 591,
   "metadata": {},
   "outputs": [
    {
     "name": "stdout",
     "output_type": "stream",
     "text": [
      "3\n",
      "3\n",
      "3\n",
      "3\n",
      "3\n",
      "3\n",
      "9\n"
     ]
    },
    {
     "data": {
      "text/plain": [
       "9"
      ]
     },
     "execution_count": 591,
     "metadata": {},
     "output_type": "execute_result"
    }
   ],
   "source": [
    "def max_version_pro(*numbers):\n",
    "    max = numbers[0]\n",
    "    for numero in numbers:\n",
    "        if(numero > max):\n",
    "            max = numero\n",
    "    \n",
    "    print(max)\n",
    "    return max    \n",
    "\n",
    "max_version_pro(1,2,3)\n",
    "max_version_pro(1,3,2)\n",
    "max_version_pro(2,1,3)\n",
    "max_version_pro(2,3,1)\n",
    "max_version_pro(3,1,2)\n",
    "max_version_pro(3,2,1)\n",
    "max_version_pro(3,2,1,5,7,2,1,9,0,-8)"
   ]
  },
  {
   "cell_type": "markdown",
   "metadata": {},
   "source": [
    "* Crea una función que coja name y year , que compruebe que year es entero y, si no, que lo ocnvierta en entero y saque por pantalla un mensaje personalizado con el año en el que cumpliría 100 años"
   ]
  },
  {
   "cell_type": "code",
   "execution_count": 592,
   "metadata": {},
   "outputs": [
    {
     "name": "stdout",
     "output_type": "stream",
     "text": [
      "Hola, Paco. ¡En 2085 cumplirás 100 añacos!\n",
      "Hola, Manolo. ¡En 2066 cumplirás 100 añacos!\n",
      "Hola, Señora del futuro. ¡En 2131 cumplirás 100 añacos!\n"
     ]
    }
   ],
   "source": [
    "def centenario(name,year):\n",
    "    if not isinstance(year,int):\n",
    "        year = int(year)\n",
    "    \n",
    "    return f'Hola, {name}. ¡En {year + 100} cumplirás 100 añacos!'\n",
    "\n",
    "print(centenario(\"Paco\", 1985))\n",
    "print(centenario(\"Manolo\", \"1966\"))\n",
    "print(centenario(\"Señora del futuro\", \"2031\"))\n"
   ]
  },
  {
   "cell_type": "markdown",
   "metadata": {},
   "source": [
    "## Tipos escalares"
   ]
  },
  {
   "cell_type": "markdown",
   "metadata": {},
   "source": [
    "* Tiene números complejos"
   ]
  },
  {
   "cell_type": "code",
   "execution_count": 593,
   "metadata": {},
   "outputs": [
    {
     "name": "stdout",
     "output_type": "stream",
     "text": [
      "<class 'complex'>\n",
      "2.0\n",
      "1.0\n"
     ]
    }
   ],
   "source": [
    "val = 1 + 2j\n",
    "print(type(val))\n",
    "print(val.imag)\n",
    "print(val.real)\n",
    "\n"
   ]
  },
  {
   "cell_type": "markdown",
   "metadata": {},
   "source": [
    "* Se pueden usar '' y \"\""
   ]
  },
  {
   "cell_type": "code",
   "execution_count": 594,
   "metadata": {},
   "outputs": [
    {
     "name": "stdout",
     "output_type": "stream",
     "text": [
      "Hola\n",
      "Hola\n"
     ]
    }
   ],
   "source": [
    "print(\"Hola\")\n",
    "print('Hola')"
   ]
  },
  {
   "cell_type": "markdown",
   "metadata": {},
   "source": [
    "* Para un texto de varias líneas usamos _\"\"\"_"
   ]
  },
  {
   "cell_type": "code",
   "execution_count": 595,
   "metadata": {},
   "outputs": [
    {
     "name": "stdout",
     "output_type": "stream",
     "text": [
      "esto es una linea\n",
      "y esta es otra\n",
      "y esta es la final\n"
     ]
    }
   ],
   "source": [
    "print(\"\"\"esto es una linea\n",
    "y esta es otra\n",
    "y esta es la final\"\"\")"
   ]
  },
  {
   "cell_type": "markdown",
   "metadata": {},
   "source": [
    "* Un string es como un array"
   ]
  },
  {
   "cell_type": "code",
   "execution_count": 596,
   "metadata": {},
   "outputs": [
    {
     "data": {
      "text/plain": [
       "'o'"
      ]
     },
     "execution_count": 596,
     "metadata": {},
     "output_type": "execute_result"
    }
   ],
   "source": [
    "saludo = \"hola\"\n",
    "saludo[1]"
   ]
  },
  {
   "cell_type": "markdown",
   "metadata": {},
   "source": [
    "* Perono se puede modificar como tal... Es inmutable"
   ]
  },
  {
   "cell_type": "code",
   "execution_count": 597,
   "metadata": {},
   "outputs": [],
   "source": [
    "saludo = \"hola\"\n",
    "# saludo[0] = 'H' . Casca"
   ]
  },
  {
   "cell_type": "markdown",
   "metadata": {},
   "source": [
    "* Para sacar un subtring"
   ]
  },
  {
   "cell_type": "code",
   "execution_count": 598,
   "metadata": {},
   "outputs": [
    {
     "name": "stdout",
     "output_type": "stream",
     "text": [
      "ol\n",
      "hol\n",
      "la\n"
     ]
    }
   ],
   "source": [
    "saludo = \"hola\"\n",
    "print(saludo[1:3])\n",
    "print(saludo[:3])\n",
    "print(saludo[2:])"
   ]
  },
  {
   "cell_type": "markdown",
   "metadata": {},
   "source": [
    "* Para reemplazar, replace"
   ]
  },
  {
   "cell_type": "code",
   "execution_count": 599,
   "metadata": {},
   "outputs": [
    {
     "name": "stdout",
     "output_type": "stream",
     "text": [
      "hol4 P4co\n"
     ]
    }
   ],
   "source": [
    "a = \"hola Paco\"\n",
    "print(a.replace(\"a\", \"4\"))"
   ]
  },
  {
   "cell_type": "markdown",
   "metadata": {},
   "source": [
    "* Para buscar primera ocurrencia de un caracter. index o find. Index casxca si no lo encuentra, find devuelve -1"
   ]
  },
  {
   "cell_type": "code",
   "execution_count": 600,
   "metadata": {},
   "outputs": [
    {
     "name": "stdout",
     "output_type": "stream",
     "text": [
      "6\n",
      "-1\n"
     ]
    }
   ],
   "source": [
    "a = \"adiós pepe\"\n",
    "print(a.find('p'))\n",
    "print(a.find('ñ'))\n",
    "# print(a.index('ñ')). Casca si no lo encuentra"
   ]
  },
  {
   "cell_type": "markdown",
   "metadata": {},
   "source": [
    "* Operaciones con mayúsculas y minúsculas"
   ]
  },
  {
   "cell_type": "code",
   "execution_count": 601,
   "metadata": {},
   "outputs": [
    {
     "name": "stdout",
     "output_type": "stream",
     "text": [
      "Hola, manuel\n",
      "HOLA, MANUEL\n",
      "hola, manuel\n",
      "Hola, Manuel\n"
     ]
    }
   ],
   "source": [
    "a = \"hola, Manuel\"\n",
    "\n",
    "print(a.capitalize())\n",
    "print(a.upper())\n",
    "print(a.lower())\n",
    "print(a.title())"
   ]
  },
  {
   "cell_type": "markdown",
   "metadata": {},
   "source": [
    "* Para comparar datos case insensitive (habría que ver si hay alguna manera más eficiente)"
   ]
  },
  {
   "cell_type": "code",
   "execution_count": 602,
   "metadata": {},
   "outputs": [
    {
     "data": {
      "text/plain": [
       "True"
      ]
     },
     "execution_count": 602,
     "metadata": {},
     "output_type": "execute_result"
    }
   ],
   "source": [
    "a = \"gAto\"\n",
    "a.upper() == \"GATO\"\n",
    "\n",
    "\n"
   ]
  },
  {
   "cell_type": "markdown",
   "metadata": {},
   "source": [
    "* Strip quita los paréntesis de adelante y detrás"
   ]
  },
  {
   "cell_type": "code",
   "execution_count": 603,
   "metadata": {},
   "outputs": [
    {
     "data": {
      "text/plain": [
       "True"
      ]
     },
     "execution_count": 603,
     "metadata": {},
     "output_type": "execute_result"
    }
   ],
   "source": [
    "b = \"   cAT     \"\n",
    "b.upper().strip() == \"CAT\""
   ]
  },
  {
   "cell_type": "markdown",
   "metadata": {},
   "source": [
    "* Buscar número de ocurrencias\""
   ]
  },
  {
   "cell_type": "code",
   "execution_count": 604,
   "metadata": {},
   "outputs": [
    {
     "data": {
      "text/plain": [
       "2"
      ]
     },
     "execution_count": 604,
     "metadata": {},
     "output_type": "execute_result"
    }
   ],
   "source": [
    "a = \"hola hola casa\"\n",
    "a.count(\"hola\")"
   ]
  },
  {
   "cell_type": "markdown",
   "metadata": {},
   "source": [
    "* Is digit"
   ]
  },
  {
   "cell_type": "code",
   "execution_count": 605,
   "metadata": {},
   "outputs": [
    {
     "name": "stdout",
     "output_type": "stream",
     "text": [
      "False\n",
      "False\n",
      "True\n",
      "True\n"
     ]
    }
   ],
   "source": [
    "print('5.4e-5'.isdigit())\n",
    "print('5.4'.isdigit())\n",
    "print('54'.isdigit())\n",
    "print('5'.isdigit())"
   ]
  },
  {
   "cell_type": "markdown",
   "metadata": {},
   "source": [
    "* Conversiones"
   ]
  },
  {
   "cell_type": "code",
   "execution_count": 606,
   "metadata": {},
   "outputs": [
    {
     "name": "stdout",
     "output_type": "stream",
     "text": [
      "21\n"
     ]
    }
   ],
   "source": [
    "entero = int('21')\n",
    "print(entero)"
   ]
  },
  {
   "cell_type": "code",
   "execution_count": 607,
   "metadata": {},
   "outputs": [
    {
     "name": "stdout",
     "output_type": "stream",
     "text": [
      "21.5\n"
     ]
    }
   ],
   "source": [
    "flotante = float('21.5')\n",
    "print(flotante)"
   ]
  },
  {
   "cell_type": "markdown",
   "metadata": {},
   "source": [
    "* Split"
   ]
  },
  {
   "cell_type": "code",
   "execution_count": 608,
   "metadata": {
    "scrolled": true
   },
   "outputs": [
    {
     "name": "stdout",
     "output_type": "stream",
     "text": [
      "['hola', 'soy', 'tonto']\n"
     ]
    }
   ],
   "source": [
    "frase = \"hola^soy^tonto\"\n",
    "print(frase.split(\"^\"))"
   ]
  },
  {
   "cell_type": "markdown",
   "metadata": {},
   "source": [
    "* Separar líneas"
   ]
  },
  {
   "cell_type": "code",
   "execution_count": 609,
   "metadata": {},
   "outputs": [
    {
     "name": "stdout",
     "output_type": "stream",
     "text": [
      "['hola', 'soy una linea', 'y otra ', 'y otra más']\n"
     ]
    }
   ],
   "source": [
    "texto = \"\"\"hola\n",
    "soy una linea\n",
    "y otra \n",
    "y otra más\"\"\"\n",
    "\n",
    "print(texto.splitlines())"
   ]
  },
  {
   "cell_type": "markdown",
   "metadata": {},
   "source": [
    "* Juntar un texto"
   ]
  },
  {
   "cell_type": "code",
   "execution_count": 610,
   "metadata": {},
   "outputs": [
    {
     "name": "stdout",
     "output_type": "stream",
     "text": [
      "hola^paco\n",
      "h.o.l.a\n"
     ]
    }
   ],
   "source": [
    "a = \"hola\"\n",
    "b = \"paco\"\n",
    "\n",
    "frase = \"^\".join([a,b])\n",
    "print(frase)\n",
    "\n",
    "hola_con_puntos = \".\".join(a) # porque un string es un array de caracteres\n",
    "print(hola_con_puntos)"
   ]
  },
  {
   "cell_type": "markdown",
   "metadata": {},
   "source": [
    "* Concatenar strings "
   ]
  },
  {
   "cell_type": "code",
   "execution_count": 611,
   "metadata": {},
   "outputs": [
    {
     "name": "stdout",
     "output_type": "stream",
     "text": [
      "pacopepe\n"
     ]
    }
   ],
   "source": [
    "a = \"paco\"\n",
    "b = \"pepe\"\n",
    "\n",
    "print(a+b)"
   ]
  },
  {
   "cell_type": "markdown",
   "metadata": {},
   "source": [
    "* Format usando templates"
   ]
  },
  {
   "cell_type": "code",
   "execution_count": 612,
   "metadata": {},
   "outputs": [
    {
     "data": {
      "text/plain": [
       "'32.57 jijiji are worth 555 '"
      ]
     },
     "execution_count": 612,
     "metadata": {},
     "output_type": "execute_result"
    }
   ],
   "source": [
    "template = \"%.2f %s are worth %d \" # float con dos decimales, string y entero\n",
    "a = 32.5678\n",
    "b= \"jijiji\"\n",
    "c= 555\n",
    "\n",
    "template % (a,b,c)"
   ]
  },
  {
   "cell_type": "markdown",
   "metadata": {},
   "source": [
    "* Otra forma, con python 3, más moderno (Fuente: https://www.digitalocean.com/community/tutorials/how-to-use-string-formatters-in-python-3)"
   ]
  },
  {
   "cell_type": "code",
   "execution_count": 613,
   "metadata": {},
   "outputs": [
    {
     "data": {
      "text/plain": [
       "'32.57 jijiji are worth 555 '"
      ]
     },
     "execution_count": 613,
     "metadata": {},
     "output_type": "execute_result"
    }
   ],
   "source": [
    "\n",
    "a = 32.5678\n",
    "b= \"jijiji\"\n",
    "c= 555\n",
    "\n",
    "f\"{a:.2f} {b} are worth {c:d} \""
   ]
  },
  {
   "cell_type": "markdown",
   "metadata": {},
   "source": [
    "* Operaciones con textos (o arrays)"
   ]
  },
  {
   "cell_type": "code",
   "execution_count": 614,
   "metadata": {},
   "outputs": [
    {
     "name": "stdout",
     "output_type": "stream",
     "text": [
      "34\n",
      "258\n",
      "3456789\n",
      "01234\n",
      "9\n",
      "9876543210\n",
      "543210\n",
      "543\n"
     ]
    }
   ],
   "source": [
    "a = '0123456789'\n",
    "\n",
    "print(a[3:5])\n",
    "print(a[2:9:3])\n",
    "print(a[3:])\n",
    "print(a[:5])\n",
    "print(a[-1])\n",
    "print(a[::-1])\n",
    "print(a[5::-1])\n",
    "print(a[5:2:-1])"
   ]
  },
  {
   "cell_type": "markdown",
   "metadata": {},
   "source": [
    "* Para comprobar si una lista está llena (o vacía)"
   ]
  },
  {
   "cell_type": "code",
   "execution_count": 615,
   "metadata": {},
   "outputs": [
    {
     "name": "stdout",
     "output_type": "stream",
     "text": [
      "está vacía\n"
     ]
    }
   ],
   "source": [
    "list = []\n",
    "\n",
    "if(list):\n",
    "    print(\"está llena\")\n",
    "else:\n",
    "    print(\"está vacía\")"
   ]
  },
  {
   "cell_type": "markdown",
   "metadata": {},
   "source": [
    "* Para repetir un string"
   ]
  },
  {
   "cell_type": "code",
   "execution_count": 616,
   "metadata": {},
   "outputs": [
    {
     "data": {
      "text/plain": [
       "'abcabcabc'"
      ]
     },
     "execution_count": 616,
     "metadata": {},
     "output_type": "execute_result"
    }
   ],
   "source": [
    "str = \"abc\"\n",
    "\n",
    "str * 3"
   ]
  },
  {
   "cell_type": "markdown",
   "metadata": {},
   "source": [
    "## Ejercicios"
   ]
  },
  {
   "cell_type": "markdown",
   "metadata": {},
   "source": [
    "Write a function to calculate the number of words, number of lines, and length of a string the same way\n",
    "the wc command does in the command line"
   ]
  },
  {
   "cell_type": "code",
   "execution_count": 617,
   "metadata": {},
   "outputs": [
    {
     "name": "stdout",
     "output_type": "stream",
     "text": [
      "(2, 3, 17)\n",
      "(3, 3, 22)\n",
      "(1, 0, 1)\n"
     ]
    }
   ],
   "source": [
    "def wc(str):\n",
    "    lines = 0\n",
    "\n",
    "    words = 0\n",
    "    for line in str.splitlines():\n",
    "        lines += 1\n",
    "        words+= line.count(\" \")\n",
    "    \n",
    "    characters = len(str)\n",
    "    \n",
    "    #return f'{lines}     {words}     {characters}'\n",
    "    return lines, words, characters\n",
    "\n",
    "print(wc(\"hola \\n hola adios\"))\n",
    "print(wc(\"hola \\n hola adios\\njeje\"))\n",
    "print(wc(\"\\n\"))"
   ]
  },
  {
   "cell_type": "markdown",
   "metadata": {},
   "source": [
    "* Nota de JL: creo que no salen los mismos resultados que con shell porque shell cuenta el número de bytes, \\n ocupa dos bytes. Nosotros estamos contando en python el número de caracteres"
   ]
  },
  {
   "cell_type": "markdown",
   "metadata": {},
   "source": [
    "Write a Python program to remove the nth index character from a string. If the input string is empty print\n",
    "warning."
   ]
  },
  {
   "cell_type": "code",
   "execution_count": 618,
   "metadata": {},
   "outputs": [
    {
     "name": "stdout",
     "output_type": "stream",
     "text": [
      "pao\n",
      "aco\n",
      "Warning: input is not long enough (4)\n",
      "None\n",
      "Warning: input is not long enough (0)\n",
      "None\n",
      "'235' is not a string\n",
      "None\n",
      "'False' is not a string\n",
      "None\n"
     ]
    }
   ],
   "source": [
    "def remove_Nth_character(input,n):\n",
    "    if not isinstance(input,type(str)):\n",
    "        print(f\"'{input}' is not a string\")\n",
    "        return None\n",
    "    \n",
    "    length = len(input)\n",
    "    if len(input) <= n :\n",
    "        print(f\"Warning: input is not long enough ({length})\")\n",
    "        return None\n",
    "    \n",
    "    return input[:n] + input[n+1:]\n",
    "\n",
    "print(remove_Nth_character(\"paco\",2))\n",
    "print(remove_Nth_character(\"paco\",0))\n",
    "print(remove_Nth_character(\"paco\",6))\n",
    "print(remove_Nth_character(\"\",6))\n",
    "print(remove_Nth_character(235,2))\n",
    "print(remove_Nth_character(False,2))"
   ]
  },
  {
   "cell_type": "markdown",
   "metadata": {},
   "source": [
    "##  Importando módulos"
   ]
  },
  {
   "cell_type": "markdown",
   "metadata": {},
   "source": [
    "* Para importar , se pone el nombre del fichero sin py. Lo comento para que no lo haga"
   ]
  },
  {
   "cell_type": "code",
   "execution_count": 619,
   "metadata": {},
   "outputs": [],
   "source": [
    "# import functions"
   ]
  },
  {
   "cell_type": "markdown",
   "metadata": {},
   "source": [
    "* Pero eso no se recomienda, porque machacará con tus funciones las funciones de python u otros módulos si se llaman igual"
   ]
  },
  {
   "cell_type": "code",
   "execution_count": 620,
   "metadata": {},
   "outputs": [
    {
     "name": "stdout",
     "output_type": "stream",
     "text": [
      "6\n"
     ]
    },
    {
     "data": {
      "text/plain": [
       "6"
      ]
     },
     "execution_count": 620,
     "metadata": {},
     "output_type": "execute_result"
    }
   ],
   "source": [
    "import functions as func\n",
    "func.max_of_three(1,4,6)"
   ]
  },
  {
   "cell_type": "markdown",
   "metadata": {},
   "source": [
    "* Existe una variable de entorno para que Jupyter busque en carpetas adicionales aparte de las del path de python. (TO DO)"
   ]
  },
  {
   "cell_type": "markdown",
   "metadata": {},
   "source": [
    "## Importancia de notebooks"
   ]
  },
  {
   "cell_type": "markdown",
   "metadata": {},
   "source": [
    "* Se puede conectar a un notebook en un servidor remoto, lo cual nos ayuda a trabajar con clusters. "
   ]
  },
  {
   "cell_type": "markdown",
   "metadata": {},
   "source": [
    "<div style=\"text-align:right\">\n",
    "Juan Luis García López (@huanlui)\n",
    "<a href=\"https://github.com/huanlui\" class=\"fa fa-github\"> Github </a>\n",
    "<a href=\"https://twitter.com/huanlui\" class=\"fa fa-twitter\"> Twitter </a>\n",
    "<a href=\"https://www.linkedin.com/in/juan-luis-garcía-lópez-99057138\" class=\"fa fa-linkedin\"> Linkedin </a>\n",
    "<div>"
   ]
  }
 ],
 "metadata": {
  "kernelspec": {
   "display_name": "Python 3",
   "language": "python",
   "name": "python3"
  },
  "language_info": {
   "codemirror_mode": {
    "name": "ipython",
    "version": 3
   },
   "file_extension": ".py",
   "mimetype": "text/x-python",
   "name": "python",
   "nbconvert_exporter": "python",
   "pygments_lexer": "ipython3",
   "version": "3.6.4"
  }
 },
 "nbformat": 4,
 "nbformat_minor": 2
}
